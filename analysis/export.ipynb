{
 "cells": [
  {
   "cell_type": "code",
   "execution_count": 1,
   "metadata": {},
   "outputs": [],
   "source": [
    "import pickle\n",
    "import pandas as pd\n",
    "from matplotlib import pyplot as plt\n",
    "from datetime import datetime\n",
    "import glob"
   ]
  },
  {
   "cell_type": "code",
   "execution_count": 2,
   "metadata": {},
   "outputs": [
    {
     "data": {
      "text/plain": [
       "['../issues_cookie prompt.p',\n",
       " '../issues_data privacy.p',\n",
       " '../issues_pseudonymization.p',\n",
       " '../issues_consent withdrawal.p',\n",
       " '../issues_privacy notice.p',\n",
       " '../issues_personally identifiable information.p',\n",
       " '../issues_privacy controls.p',\n",
       " '../issues_anonymization.p',\n",
       " '../issues_privacy policy.p',\n",
       " '../issues_right to be forgotten.p',\n",
       " '../issues_data breach.p',\n",
       " '../issues_privacy violation.p',\n",
       " '../issues_privacy problem.p',\n",
       " '../issues_ePrivacy Directive.p',\n",
       " '../issues_cookie banner.p',\n",
       " '../issues_tracking.p',\n",
       " '../issues_CCPA.p',\n",
       " '../issues_privacy breach.p',\n",
       " '../issues_privacy settings.p',\n",
       " '../issues_data sharing.p',\n",
       " '../issues_GDPR.p',\n",
       " '../issues_fingerprinting.p',\n",
       " '../issues_cookie notice.p',\n",
       " '../issues_privacy issue.p',\n",
       " '../issues_privacy law.p',\n",
       " '../issues_personal data.p',\n",
       " '../issues_PII.p',\n",
       " '../issues_cookie law.p',\n",
       " '../issues_data protection.p',\n",
       " '../issues_privacy act.p']"
      ]
     },
     "execution_count": 2,
     "metadata": {},
     "output_type": "execute_result"
    }
   ],
   "source": [
    "pickleFiles = glob.glob('../*.p')\n",
    "\n",
    "pickleFiles"
   ]
  },
  {
   "cell_type": "code",
   "execution_count": 3,
   "metadata": {},
   "outputs": [],
   "source": [
    "dfList = []\n",
    "\n",
    "for path in pickleFiles:\n",
    "    issues = pd.DataFrame(pickle.load(open(path, 'rb')))\n",
    "    keyword = path[path.index('_') + 1: path.index('.p')]\n",
    "    issues['keywords'] = keyword\n",
    "\n",
    "    dfList.append(issues)\n",
    "\n",
    "df_full = pd.concat(dfList)"
   ]
  },
  {
   "cell_type": "code",
   "execution_count": 4,
   "metadata": {},
   "outputs": [
    {
     "data": {
      "text/plain": [
       "(37191, 6)"
      ]
     },
     "execution_count": 4,
     "metadata": {},
     "output_type": "execute_result"
    }
   ],
   "source": [
    "df_full.shape"
   ]
  },
  {
   "cell_type": "code",
   "execution_count": 6,
   "metadata": {},
   "outputs": [],
   "source": [
    "df = df_full.copy()"
   ]
  },
  {
   "cell_type": "code",
   "execution_count": 7,
   "metadata": {},
   "outputs": [],
   "source": [
    "df['keywords'] = df[['url','keywords']].groupby(['url'])['keywords'].transform(lambda x: f'{list(set(x))}')"
   ]
  },
  {
   "cell_type": "code",
   "execution_count": 8,
   "metadata": {},
   "outputs": [],
   "source": [
    "df = df.copy()\n",
    "df.drop_duplicates(subset='url', inplace=True)"
   ]
  },
  {
   "cell_type": "code",
   "execution_count": 9,
   "metadata": {},
   "outputs": [
    {
     "data": {
      "text/plain": [
       "'https://api.github.com/repos/duckduckgo/privacy-configuration/issues/327'"
      ]
     },
     "execution_count": 9,
     "metadata": {},
     "output_type": "execute_result"
    }
   ],
   "source": [
    "df.iloc[9].url"
   ]
  },
  {
   "cell_type": "code",
   "execution_count": 10,
   "metadata": {},
   "outputs": [
    {
     "data": {
      "text/plain": [
       "21608"
      ]
     },
     "execution_count": 10,
     "metadata": {},
     "output_type": "execute_result"
    }
   ],
   "source": [
    "len(df.groupby('url').url.nunique())"
   ]
  },
  {
   "cell_type": "code",
   "execution_count": 13,
   "metadata": {},
   "outputs": [],
   "source": [
    "import xlsxwriter\n",
    "\n",
    "df_full.to_excel('df_full.xlsx', engine=\"xlsxwriter\")\n",
    "pickle.dump(df_full, open('df_full.p', 'wb'))\n",
    "\n",
    "df.to_excel('df.xlsx', engine=\"xlsxwriter\")\n",
    "pickle.dump(df, open('df.p', 'wb'))"
   ]
  },
  {
   "cell_type": "code",
   "execution_count": 11,
   "metadata": {},
   "outputs": [
    {
     "data": {
      "text/html": [
       "<div>\n",
       "<style scoped>\n",
       "    .dataframe tbody tr th:only-of-type {\n",
       "        vertical-align: middle;\n",
       "    }\n",
       "\n",
       "    .dataframe tbody tr th {\n",
       "        vertical-align: top;\n",
       "    }\n",
       "\n",
       "    .dataframe thead th {\n",
       "        text-align: right;\n",
       "    }\n",
       "</style>\n",
       "<table border=\"1\" class=\"dataframe\">\n",
       "  <thead>\n",
       "    <tr style=\"text-align: right;\">\n",
       "      <th></th>\n",
       "      <th>url</th>\n",
       "      <th>created_at</th>\n",
       "      <th>title</th>\n",
       "      <th>issue</th>\n",
       "      <th>comments</th>\n",
       "      <th>keywords</th>\n",
       "    </tr>\n",
       "  </thead>\n",
       "  <tbody>\n",
       "    <tr>\n",
       "      <th>0</th>\n",
       "      <td>https://api.github.com/repos/duckduckgo/privac...</td>\n",
       "      <td>2022-07-30 06:17:39</td>\n",
       "      <td>🍪 Cookie Prompt Management usability issues</td>\n",
       "      <td>{'url': 'https://api.github.com/repos/duckduck...</td>\n",
       "      <td>[]</td>\n",
       "      <td>['cookie prompt', 'privacy issue']</td>\n",
       "    </tr>\n",
       "    <tr>\n",
       "      <th>1</th>\n",
       "      <td>https://api.github.com/repos/WaterfoxCo/Waterf...</td>\n",
       "      <td>2017-09-02 13:52:15</td>\n",
       "      <td>Reintroduce cookie prompting</td>\n",
       "      <td>{'url': 'https://api.github.com/repos/Waterfox...</td>\n",
       "      <td>[{'url': 'https://api.github.com/repos/Waterfo...</td>\n",
       "      <td>['cookie prompt']</td>\n",
       "    </tr>\n",
       "    <tr>\n",
       "      <th>2</th>\n",
       "      <td>https://api.github.com/repos/resonatecoop/stre...</td>\n",
       "      <td>2021-08-03 13:44:21</td>\n",
       "      <td>Change wording of cookies prompt</td>\n",
       "      <td>{'url': 'https://api.github.com/repos/resonate...</td>\n",
       "      <td>[{'url': 'https://api.github.com/repos/resonat...</td>\n",
       "      <td>['cookie prompt']</td>\n",
       "    </tr>\n",
       "    <tr>\n",
       "      <th>3</th>\n",
       "      <td>https://api.github.com/repos/brave/browser-lap...</td>\n",
       "      <td>2017-08-10 05:51:12</td>\n",
       "      <td>Feature request: Implement cookie prompts</td>\n",
       "      <td>{'url': 'https://api.github.com/repos/brave/br...</td>\n",
       "      <td>[]</td>\n",
       "      <td>['cookie prompt']</td>\n",
       "    </tr>\n",
       "    <tr>\n",
       "      <th>4</th>\n",
       "      <td>https://api.github.com/repos/duckduckgo/Androi...</td>\n",
       "      <td>2022-12-19 10:17:16</td>\n",
       "      <td>POC - testing CPM secondary screen</td>\n",
       "      <td>{'url': 'https://api.github.com/repos/duckduck...</td>\n",
       "      <td>[]</td>\n",
       "      <td>['cookie prompt']</td>\n",
       "    </tr>\n",
       "    <tr>\n",
       "      <th>...</th>\n",
       "      <td>...</td>\n",
       "      <td>...</td>\n",
       "      <td>...</td>\n",
       "      <td>...</td>\n",
       "      <td>...</td>\n",
       "      <td>...</td>\n",
       "    </tr>\n",
       "    <tr>\n",
       "      <th>466</th>\n",
       "      <td>https://api.github.com/repos/EFForg/action-cen...</td>\n",
       "      <td>2017-09-11 21:18:11</td>\n",
       "      <td>Radio styles are a little messed up</td>\n",
       "      <td>{'url': 'https://api.github.com/repos/EFForg/a...</td>\n",
       "      <td>[{'url': 'https://api.github.com/repos/EFForg/...</td>\n",
       "      <td>['privacy act']</td>\n",
       "    </tr>\n",
       "    <tr>\n",
       "      <th>467</th>\n",
       "      <td>https://api.github.com/repos/ualbertalib/jupit...</td>\n",
       "      <td>2018-02-21 14:55:50</td>\n",
       "      <td>era-beta: item detail (generic and thesis)</td>\n",
       "      <td>{'url': 'https://api.github.com/repos/ualberta...</td>\n",
       "      <td>[{'url': 'https://api.github.com/repos/ualbert...</td>\n",
       "      <td>['privacy act']</td>\n",
       "    </tr>\n",
       "    <tr>\n",
       "      <th>471</th>\n",
       "      <td>https://api.github.com/repos/department-of-vet...</td>\n",
       "      <td>2017-03-28 17:22:44</td>\n",
       "      <td>Change z-index values of menus.</td>\n",
       "      <td>{'url': 'https://api.github.com/repos/departme...</td>\n",
       "      <td>[{'url': 'https://api.github.com/repos/departm...</td>\n",
       "      <td>['privacy act']</td>\n",
       "    </tr>\n",
       "    <tr>\n",
       "      <th>474</th>\n",
       "      <td>https://api.github.com/repos/cfpb/consumerfina...</td>\n",
       "      <td>2017-02-07 19:51:45</td>\n",
       "      <td>Support EmailSignUp organisms in Blog/LearnPag...</td>\n",
       "      <td>{'url': 'https://api.github.com/repos/cfpb/con...</td>\n",
       "      <td>[{'url': 'https://api.github.com/repos/cfpb/co...</td>\n",
       "      <td>['privacy act']</td>\n",
       "    </tr>\n",
       "    <tr>\n",
       "      <th>475</th>\n",
       "      <td>https://api.github.com/repos/GeoNode/geonode/i...</td>\n",
       "      <td>2017-05-10 16:55:58</td>\n",
       "      <td>Upload Layer: the check on default style is we...</td>\n",
       "      <td>{'url': 'https://api.github.com/repos/GeoNode/...</td>\n",
       "      <td>[{'url': 'https://api.github.com/repos/GeoNode...</td>\n",
       "      <td>['privacy act']</td>\n",
       "    </tr>\n",
       "  </tbody>\n",
       "</table>\n",
       "<p>21608 rows × 6 columns</p>\n",
       "</div>"
      ],
      "text/plain": [
       "                                                   url          created_at  \\\n",
       "0    https://api.github.com/repos/duckduckgo/privac... 2022-07-30 06:17:39   \n",
       "1    https://api.github.com/repos/WaterfoxCo/Waterf... 2017-09-02 13:52:15   \n",
       "2    https://api.github.com/repos/resonatecoop/stre... 2021-08-03 13:44:21   \n",
       "3    https://api.github.com/repos/brave/browser-lap... 2017-08-10 05:51:12   \n",
       "4    https://api.github.com/repos/duckduckgo/Androi... 2022-12-19 10:17:16   \n",
       "..                                                 ...                 ...   \n",
       "466  https://api.github.com/repos/EFForg/action-cen... 2017-09-11 21:18:11   \n",
       "467  https://api.github.com/repos/ualbertalib/jupit... 2018-02-21 14:55:50   \n",
       "471  https://api.github.com/repos/department-of-vet... 2017-03-28 17:22:44   \n",
       "474  https://api.github.com/repos/cfpb/consumerfina... 2017-02-07 19:51:45   \n",
       "475  https://api.github.com/repos/GeoNode/geonode/i... 2017-05-10 16:55:58   \n",
       "\n",
       "                                                 title  \\\n",
       "0          🍪 Cookie Prompt Management usability issues   \n",
       "1                         Reintroduce cookie prompting   \n",
       "2                     Change wording of cookies prompt   \n",
       "3            Feature request: Implement cookie prompts   \n",
       "4                   POC - testing CPM secondary screen   \n",
       "..                                                 ...   \n",
       "466                Radio styles are a little messed up   \n",
       "467         era-beta: item detail (generic and thesis)   \n",
       "471                    Change z-index values of menus.   \n",
       "474  Support EmailSignUp organisms in Blog/LearnPag...   \n",
       "475  Upload Layer: the check on default style is we...   \n",
       "\n",
       "                                                 issue  \\\n",
       "0    {'url': 'https://api.github.com/repos/duckduck...   \n",
       "1    {'url': 'https://api.github.com/repos/Waterfox...   \n",
       "2    {'url': 'https://api.github.com/repos/resonate...   \n",
       "3    {'url': 'https://api.github.com/repos/brave/br...   \n",
       "4    {'url': 'https://api.github.com/repos/duckduck...   \n",
       "..                                                 ...   \n",
       "466  {'url': 'https://api.github.com/repos/EFForg/a...   \n",
       "467  {'url': 'https://api.github.com/repos/ualberta...   \n",
       "471  {'url': 'https://api.github.com/repos/departme...   \n",
       "474  {'url': 'https://api.github.com/repos/cfpb/con...   \n",
       "475  {'url': 'https://api.github.com/repos/GeoNode/...   \n",
       "\n",
       "                                              comments  \\\n",
       "0                                                   []   \n",
       "1    [{'url': 'https://api.github.com/repos/Waterfo...   \n",
       "2    [{'url': 'https://api.github.com/repos/resonat...   \n",
       "3                                                   []   \n",
       "4                                                   []   \n",
       "..                                                 ...   \n",
       "466  [{'url': 'https://api.github.com/repos/EFForg/...   \n",
       "467  [{'url': 'https://api.github.com/repos/ualbert...   \n",
       "471  [{'url': 'https://api.github.com/repos/departm...   \n",
       "474  [{'url': 'https://api.github.com/repos/cfpb/co...   \n",
       "475  [{'url': 'https://api.github.com/repos/GeoNode...   \n",
       "\n",
       "                               keywords  \n",
       "0    ['cookie prompt', 'privacy issue']  \n",
       "1                     ['cookie prompt']  \n",
       "2                     ['cookie prompt']  \n",
       "3                     ['cookie prompt']  \n",
       "4                     ['cookie prompt']  \n",
       "..                                  ...  \n",
       "466                     ['privacy act']  \n",
       "467                     ['privacy act']  \n",
       "471                     ['privacy act']  \n",
       "474                     ['privacy act']  \n",
       "475                     ['privacy act']  \n",
       "\n",
       "[21608 rows x 6 columns]"
      ]
     },
     "execution_count": 11,
     "metadata": {},
     "output_type": "execute_result"
    }
   ],
   "source": [
    "df"
   ]
  },
  {
   "cell_type": "code",
   "execution_count": 14,
   "metadata": {},
   "outputs": [
    {
     "data": {
      "image/png": "[encoded data removed]",
      "text/plain": [
       "<Figure size 640x480 with 1 Axes>"
      ]
     },
     "metadata": {},
     "output_type": "display_data"
    }
   ],
   "source": [
    "%matplotlib inline\n",
    "\n",
    "plt.hist(df.created_at)\n",
    "plt.show()"
   ]
  }
 ],
 "metadata": {
  "kernelspec": {
   "display_name": "github_priv",
   "language": "python",
   "name": "python3"
  },
  "language_info": {
   "codemirror_mode": {
    "name": "ipython",
    "version": 3
   },
   "file_extension": ".py",
   "mimetype": "text/x-python",
   "name": "python",
   "nbconvert_exporter": "python",
   "pygments_lexer": "ipython3",
   "version": "3.10.9 (main, Jan 11 2023, 15:21:40) [GCC 11.2.0]"
  },
  "orig_nbformat": 4,
  "vscode": {
   "interpreter": {
    "hash": "9988732df1362e222b4c269652c83f400836fa46e2b5f2031be164aab9b82f3d"
   }
  }
 },
 "nbformat": 4,
 "nbformat_minor": 2
}
