{
 "cells": [
  {
   "cell_type": "code",
   "execution_count": 2,
   "metadata": {},
   "outputs": [],
   "source": [
    "import pandas as pd"
   ]
  },
  {
   "cell_type": "code",
   "execution_count": 3,
   "metadata": {},
   "outputs": [],
   "source": [
    "df: pd.DataFrame = pd.read_pickle('df.p')\n",
    "\n",
    "df.reset_index(inplace=True)"
   ]
  },
  {
   "cell_type": "code",
   "execution_count": 4,
   "metadata": {},
   "outputs": [
    {
     "data": {
      "text/html": [
       "<div>\n",
       "<style scoped>\n",
       "    .dataframe tbody tr th:only-of-type {\n",
       "        vertical-align: middle;\n",
       "    }\n",
       "\n",
       "    .dataframe tbody tr th {\n",
       "        vertical-align: top;\n",
       "    }\n",
       "\n",
       "    .dataframe thead th {\n",
       "        text-align: right;\n",
       "    }\n",
       "</style>\n",
       "<table border=\"1\" class=\"dataframe\">\n",
       "  <thead>\n",
       "    <tr style=\"text-align: right;\">\n",
       "      <th></th>\n",
       "      <th>index</th>\n",
       "      <th>url</th>\n",
       "      <th>created_at</th>\n",
       "      <th>title</th>\n",
       "      <th>issue</th>\n",
       "      <th>comments</th>\n",
       "      <th>keywords</th>\n",
       "    </tr>\n",
       "  </thead>\n",
       "  <tbody>\n",
       "    <tr>\n",
       "      <th>0</th>\n",
       "      <td>0</td>\n",
       "      <td>https://api.github.com/repos/duckduckgo/privac...</td>\n",
       "      <td>2022-07-30 06:17:39</td>\n",
       "      <td>🍪 Cookie Prompt Management usability issues</td>\n",
       "      <td>{'url': 'https://api.github.com/repos/duckduck...</td>\n",
       "      <td>[]</td>\n",
       "      <td>['cookie prompt', 'privacy issue']</td>\n",
       "    </tr>\n",
       "    <tr>\n",
       "      <th>1</th>\n",
       "      <td>1</td>\n",
       "      <td>https://api.github.com/repos/WaterfoxCo/Waterf...</td>\n",
       "      <td>2017-09-02 13:52:15</td>\n",
       "      <td>Reintroduce cookie prompting</td>\n",
       "      <td>{'url': 'https://api.github.com/repos/Waterfox...</td>\n",
       "      <td>[{'url': 'https://api.github.com/repos/Waterfo...</td>\n",
       "      <td>['cookie prompt']</td>\n",
       "    </tr>\n",
       "    <tr>\n",
       "      <th>2</th>\n",
       "      <td>2</td>\n",
       "      <td>https://api.github.com/repos/resonatecoop/stre...</td>\n",
       "      <td>2021-08-03 13:44:21</td>\n",
       "      <td>Change wording of cookies prompt</td>\n",
       "      <td>{'url': 'https://api.github.com/repos/resonate...</td>\n",
       "      <td>[{'url': 'https://api.github.com/repos/resonat...</td>\n",
       "      <td>['cookie prompt']</td>\n",
       "    </tr>\n",
       "    <tr>\n",
       "      <th>3</th>\n",
       "      <td>3</td>\n",
       "      <td>https://api.github.com/repos/brave/browser-lap...</td>\n",
       "      <td>2017-08-10 05:51:12</td>\n",
       "      <td>Feature request: Implement cookie prompts</td>\n",
       "      <td>{'url': 'https://api.github.com/repos/brave/br...</td>\n",
       "      <td>[]</td>\n",
       "      <td>['cookie prompt']</td>\n",
       "    </tr>\n",
       "    <tr>\n",
       "      <th>4</th>\n",
       "      <td>4</td>\n",
       "      <td>https://api.github.com/repos/duckduckgo/Androi...</td>\n",
       "      <td>2022-12-19 10:17:16</td>\n",
       "      <td>POC - testing CPM secondary screen</td>\n",
       "      <td>{'url': 'https://api.github.com/repos/duckduck...</td>\n",
       "      <td>[]</td>\n",
       "      <td>['cookie prompt']</td>\n",
       "    </tr>\n",
       "    <tr>\n",
       "      <th>...</th>\n",
       "      <td>...</td>\n",
       "      <td>...</td>\n",
       "      <td>...</td>\n",
       "      <td>...</td>\n",
       "      <td>...</td>\n",
       "      <td>...</td>\n",
       "      <td>...</td>\n",
       "    </tr>\n",
       "    <tr>\n",
       "      <th>21603</th>\n",
       "      <td>466</td>\n",
       "      <td>https://api.github.com/repos/EFForg/action-cen...</td>\n",
       "      <td>2017-09-11 21:18:11</td>\n",
       "      <td>Radio styles are a little messed up</td>\n",
       "      <td>{'url': 'https://api.github.com/repos/EFForg/a...</td>\n",
       "      <td>[{'url': 'https://api.github.com/repos/EFForg/...</td>\n",
       "      <td>['privacy act']</td>\n",
       "    </tr>\n",
       "    <tr>\n",
       "      <th>21604</th>\n",
       "      <td>467</td>\n",
       "      <td>https://api.github.com/repos/ualbertalib/jupit...</td>\n",
       "      <td>2018-02-21 14:55:50</td>\n",
       "      <td>era-beta: item detail (generic and thesis)</td>\n",
       "      <td>{'url': 'https://api.github.com/repos/ualberta...</td>\n",
       "      <td>[{'url': 'https://api.github.com/repos/ualbert...</td>\n",
       "      <td>['privacy act']</td>\n",
       "    </tr>\n",
       "    <tr>\n",
       "      <th>21605</th>\n",
       "      <td>471</td>\n",
       "      <td>https://api.github.com/repos/department-of-vet...</td>\n",
       "      <td>2017-03-28 17:22:44</td>\n",
       "      <td>Change z-index values of menus.</td>\n",
       "      <td>{'url': 'https://api.github.com/repos/departme...</td>\n",
       "      <td>[{'url': 'https://api.github.com/repos/departm...</td>\n",
       "      <td>['privacy act']</td>\n",
       "    </tr>\n",
       "    <tr>\n",
       "      <th>21606</th>\n",
       "      <td>474</td>\n",
       "      <td>https://api.github.com/repos/cfpb/consumerfina...</td>\n",
       "      <td>2017-02-07 19:51:45</td>\n",
       "      <td>Support EmailSignUp organisms in Blog/LearnPag...</td>\n",
       "      <td>{'url': 'https://api.github.com/repos/cfpb/con...</td>\n",
       "      <td>[{'url': 'https://api.github.com/repos/cfpb/co...</td>\n",
       "      <td>['privacy act']</td>\n",
       "    </tr>\n",
       "    <tr>\n",
       "      <th>21607</th>\n",
       "      <td>475</td>\n",
       "      <td>https://api.github.com/repos/GeoNode/geonode/i...</td>\n",
       "      <td>2017-05-10 16:55:58</td>\n",
       "      <td>Upload Layer: the check on default style is we...</td>\n",
       "      <td>{'url': 'https://api.github.com/repos/GeoNode/...</td>\n",
       "      <td>[{'url': 'https://api.github.com/repos/GeoNode...</td>\n",
       "      <td>['privacy act']</td>\n",
       "    </tr>\n",
       "  </tbody>\n",
       "</table>\n",
       "<p>21608 rows × 7 columns</p>\n",
       "</div>"
      ],
      "text/plain": [
       "       index                                                url   \n",
       "0          0  https://api.github.com/repos/duckduckgo/privac...  \\\n",
       "1          1  https://api.github.com/repos/WaterfoxCo/Waterf...   \n",
       "2          2  https://api.github.com/repos/resonatecoop/stre...   \n",
       "3          3  https://api.github.com/repos/brave/browser-lap...   \n",
       "4          4  https://api.github.com/repos/duckduckgo/Androi...   \n",
       "...      ...                                                ...   \n",
       "21603    466  https://api.github.com/repos/EFForg/action-cen...   \n",
       "21604    467  https://api.github.com/repos/ualbertalib/jupit...   \n",
       "21605    471  https://api.github.com/repos/department-of-vet...   \n",
       "21606    474  https://api.github.com/repos/cfpb/consumerfina...   \n",
       "21607    475  https://api.github.com/repos/GeoNode/geonode/i...   \n",
       "\n",
       "               created_at                                              title   \n",
       "0     2022-07-30 06:17:39        🍪 Cookie Prompt Management usability issues  \\\n",
       "1     2017-09-02 13:52:15                       Reintroduce cookie prompting   \n",
       "2     2021-08-03 13:44:21                   Change wording of cookies prompt   \n",
       "3     2017-08-10 05:51:12          Feature request: Implement cookie prompts   \n",
       "4     2022-12-19 10:17:16                 POC - testing CPM secondary screen   \n",
       "...                   ...                                                ...   \n",
       "21603 2017-09-11 21:18:11                Radio styles are a little messed up   \n",
       "21604 2018-02-21 14:55:50         era-beta: item detail (generic and thesis)   \n",
       "21605 2017-03-28 17:22:44                    Change z-index values of menus.   \n",
       "21606 2017-02-07 19:51:45  Support EmailSignUp organisms in Blog/LearnPag...   \n",
       "21607 2017-05-10 16:55:58  Upload Layer: the check on default style is we...   \n",
       "\n",
       "                                                   issue   \n",
       "0      {'url': 'https://api.github.com/repos/duckduck...  \\\n",
       "1      {'url': 'https://api.github.com/repos/Waterfox...   \n",
       "2      {'url': 'https://api.github.com/repos/resonate...   \n",
       "3      {'url': 'https://api.github.com/repos/brave/br...   \n",
       "4      {'url': 'https://api.github.com/repos/duckduck...   \n",
       "...                                                  ...   \n",
       "21603  {'url': 'https://api.github.com/repos/EFForg/a...   \n",
       "21604  {'url': 'https://api.github.com/repos/ualberta...   \n",
       "21605  {'url': 'https://api.github.com/repos/departme...   \n",
       "21606  {'url': 'https://api.github.com/repos/cfpb/con...   \n",
       "21607  {'url': 'https://api.github.com/repos/GeoNode/...   \n",
       "\n",
       "                                                comments   \n",
       "0                                                     []  \\\n",
       "1      [{'url': 'https://api.github.com/repos/Waterfo...   \n",
       "2      [{'url': 'https://api.github.com/repos/resonat...   \n",
       "3                                                     []   \n",
       "4                                                     []   \n",
       "...                                                  ...   \n",
       "21603  [{'url': 'https://api.github.com/repos/EFForg/...   \n",
       "21604  [{'url': 'https://api.github.com/repos/ualbert...   \n",
       "21605  [{'url': 'https://api.github.com/repos/departm...   \n",
       "21606  [{'url': 'https://api.github.com/repos/cfpb/co...   \n",
       "21607  [{'url': 'https://api.github.com/repos/GeoNode...   \n",
       "\n",
       "                                 keywords  \n",
       "0      ['cookie prompt', 'privacy issue']  \n",
       "1                       ['cookie prompt']  \n",
       "2                       ['cookie prompt']  \n",
       "3                       ['cookie prompt']  \n",
       "4                       ['cookie prompt']  \n",
       "...                                   ...  \n",
       "21603                     ['privacy act']  \n",
       "21604                     ['privacy act']  \n",
       "21605                     ['privacy act']  \n",
       "21606                     ['privacy act']  \n",
       "21607                     ['privacy act']  \n",
       "\n",
       "[21608 rows x 7 columns]"
      ]
     },
     "execution_count": 4,
     "metadata": {},
     "output_type": "execute_result"
    }
   ],
   "source": [
    "df"
   ]
  },
  {
   "cell_type": "code",
   "execution_count": 5,
   "metadata": {},
   "outputs": [
    {
     "data": {
      "text/plain": [
       "index                                                       526\n",
       "url           https://api.github.com/repos/audacity/audacity...\n",
       "created_at                                  2021-07-03 20:45:28\n",
       "title            New privacy policy is completely unacceptable!\n",
       "issue         {'url': 'https://api.github.com/repos/audacity...\n",
       "comments      [{'url': 'https://api.github.com/repos/audacit...\n",
       "keywords                                     ['privacy breach']\n",
       "#comments                                                   635\n",
       "Name: 12139, dtype: object"
      ]
     },
     "execution_count": 5,
     "metadata": {},
     "output_type": "execute_result"
    }
   ],
   "source": [
    "\n",
    "df['#comments'] = df['comments'].apply(lambda x: len(x))\n",
    "\n",
    "# pandas get row with max value\n",
    "df.loc[df['#comments'].idxmax()]\n"
   ]
  },
  {
   "cell_type": "code",
   "execution_count": 6,
   "metadata": {},
   "outputs": [
    {
     "data": {
      "text/plain": [
       "index                                                         191\n",
       "url             https://api.github.com/repos/docker/docs/issue...\n",
       "created_at                                    2018-06-20 07:19:51\n",
       "title                       Download Docker CE without logging in\n",
       "issue           {'url': 'https://api.github.com/repos/docker/d...\n",
       "comments        [{'url': 'https://api.github.com/repos/docker/...\n",
       "keywords        ['right to be forgotten', 'privacy breach', 'a...\n",
       "#comments                                                     611\n",
       "discussants     [madnight, DVLP, Instagit, henrahmagix, jimnz1...\n",
       "#discussants                                                  359\n",
       "Name: 1066, dtype: object"
      ]
     },
     "execution_count": 6,
     "metadata": {},
     "output_type": "execute_result"
    }
   ],
   "source": [
    "df['discussants'] = df['comments'].apply(lambda x: list(set([i['user']['login'] for i in x])))\n",
    "df['#discussants'] = df['discussants'].apply(lambda x: len(x))\n",
    "\n",
    "# pandas get row with max value\n",
    "df.loc[df['#discussants'].idxmax()]"
   ]
  },
  {
   "cell_type": "code",
   "execution_count": 7,
   "metadata": {},
   "outputs": [],
   "source": [
    "df['reporting_date'] = df['issue'].apply(lambda x: x['created_at'])\n",
    "df['reporting_date'] = pd.to_datetime(df['reporting_date'])\n",
    "df['last_active_date'] = df['issue'].apply(lambda x: pd.to_datetime(x['updated_at']))\n",
    "df['last_active_date'] = pd.to_datetime(df['last_active_date'])"
   ]
  },
  {
   "cell_type": "code",
   "execution_count": 8,
   "metadata": {},
   "outputs": [],
   "source": [
    "df['status'] = df['issue'].apply(lambda x: x['state'])\n",
    "df['labels'] = df['issue'].apply(lambda x: [label['name'] for label in x['labels']])\n",
    "df['#labels'] = df['labels'].apply(lambda x: len(x))"
   ]
  },
  {
   "cell_type": "code",
   "execution_count": 18,
   "metadata": {},
   "outputs": [
    {
     "data": {
      "text/plain": [
       "1                                        [feature_request]\n",
       "3           [suggestion, feature/shields, feature/cookies]\n",
       "8                                             [backburner]\n",
       "16                                           [enhancement]\n",
       "23                                                  [epic]\n",
       "                               ...                        \n",
       "21583                                    [awaiting-review]\n",
       "21587                                      [high priority]\n",
       "21590    [T: Anti Adblock Script, N: AdGuard for Window...\n",
       "21592                                               [hold]\n",
       "21601                         [question, privacy, Firefox]\n",
       "Name: labels, Length: 8831, dtype: object"
      ]
     },
     "execution_count": 18,
     "metadata": {},
     "output_type": "execute_result"
    }
   ],
   "source": [
    "df[df['#labels'].notnull() & df['#labels'] > 0]['labels']"
   ]
  }
 ],
 "metadata": {
  "kernelspec": {
   "display_name": "github_priv",
   "language": "python",
   "name": "python3"
  },
  "language_info": {
   "codemirror_mode": {
    "name": "ipython",
    "version": 3
   },
   "file_extension": ".py",
   "mimetype": "text/x-python",
   "name": "python",
   "nbconvert_exporter": "python",
   "pygments_lexer": "ipython3",
   "version": "3.10.6"
  },
  "orig_nbformat": 4,
  "vscode": {
   "interpreter": {
    "hash": "9988732df1362e222b4c269652c83f400836fa46e2b5f2031be164aab9b82f3d"
   }
  }
 },
 "nbformat": 4,
 "nbformat_minor": 2
}
