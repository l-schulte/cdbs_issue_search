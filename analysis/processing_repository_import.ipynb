{
  "cells": [
    {
      "cell_type": "code",
      "execution_count": 49,
      "metadata": {},
      "outputs": [],
      "source": [
        "import pandas as pd"
      ]
    },
    {
      "cell_type": "code",
      "execution_count": 50,
      "metadata": {},
      "outputs": [],
      "source": [
        "df: pd.DataFrame = pd.read_pickle('df.p')\n",
        "\n",
        "df.reset_index(inplace=True)"
      ]
    },
    {
      "cell_type": "code",
      "execution_count": 51,
      "metadata": {},
      "outputs": [
        {
          "data": {
            "text/html": [
              "<div>\n",
              "<style scoped>\n",
              "    .dataframe tbody tr th:only-of-type {\n",
              "        vertical-align: middle;\n",
              "    }\n",
              "\n",
              "    .dataframe tbody tr th {\n",
              "        vertical-align: top;\n",
              "    }\n",
              "\n",
              "    .dataframe thead th {\n",
              "        text-align: right;\n",
              "    }\n",
              "</style>\n",
              "<table border=\"1\" class=\"dataframe\">\n",
              "  <thead>\n",
              "    <tr style=\"text-align: right;\">\n",
              "      <th></th>\n",
              "      <th>index</th>\n",
              "      <th>url</th>\n",
              "      <th>created_at</th>\n",
              "      <th>title</th>\n",
              "      <th>issue</th>\n",
              "      <th>comments</th>\n",
              "      <th>keywords</th>\n",
              "    </tr>\n",
              "  </thead>\n",
              "  <tbody>\n",
              "    <tr>\n",
              "      <th>15945</th>\n",
              "      <td>51</td>\n",
              "      <td>https://api.github.com/repos/Automattic/themes...</td>\n",
              "      <td>2022-01-16 21:09:47</td>\n",
              "      <td>Shawburn: When setting Primary colour in Custo...</td>\n",
              "      <td>{'url': 'https://api.github.com/repos/Automatt...</td>\n",
              "      <td>[{'url': 'https://api.github.com/repos/Automat...</td>\n",
              "      <td>['cookie notice']</td>\n",
              "    </tr>\n",
              "  </tbody>\n",
              "</table>\n",
              "</div>"
            ],
            "text/plain": [
              "       index                                                url   \n",
              "15945     51  https://api.github.com/repos/Automattic/themes...  \\\n",
              "\n",
              "               created_at                                              title   \n",
              "15945 2022-01-16 21:09:47  Shawburn: When setting Primary colour in Custo...  \\\n",
              "\n",
              "                                                   issue   \n",
              "15945  {'url': 'https://api.github.com/repos/Automatt...  \\\n",
              "\n",
              "                                                comments           keywords  \n",
              "15945  [{'url': 'https://api.github.com/repos/Automat...  ['cookie notice']  "
            ]
          },
          "execution_count": 51,
          "metadata": {},
          "output_type": "execute_result"
        }
      ],
      "source": [
        "df[df['url'] == 'https://api.github.com/repos/Automattic/themes/issues/5351']"
      ]
    },
    {
      "cell_type": "code",
      "execution_count": 52,
      "metadata": {},
      "outputs": [],
      "source": [
        "df['type'] = df['issue'].apply(lambda x: 'pr' if 'pull_request' in x else 'issue')"
      ]
    },
    {
      "cell_type": "code",
      "execution_count": 53,
      "metadata": {},
      "outputs": [],
      "source": [
        "df['html_url'] = df['issue'].apply(lambda x: x['html_url'])"
      ]
    },
    {
      "cell_type": "code",
      "execution_count": 54,
      "metadata": {},
      "outputs": [
        {
          "data": {
            "text/plain": [
              "0        https://github.com/duckduckgo/privacy-configur...\n",
              "1        https://github.com/WaterfoxCo/Waterfox/issues/203\n",
              "2         https://github.com/resonatecoop/stream/issues/93\n",
              "3        https://github.com/brave/browser-laptop/issues...\n",
              "4          https://github.com/duckduckgo/Android/pull/2665\n",
              "                               ...                        \n",
              "21603    https://github.com/EFForg/action-center-platfo...\n",
              "21604    https://github.com/ualbertalib/jupiter/issues/508\n",
              "21605    https://github.com/department-of-veterans-affa...\n",
              "21606    https://github.com/cfpb/consumerfinance.gov/pu...\n",
              "21607       https://github.com/GeoNode/geonode/issues/3035\n",
              "Name: html_url, Length: 21608, dtype: object"
            ]
          },
          "execution_count": 54,
          "metadata": {},
          "output_type": "execute_result"
        }
      ],
      "source": [
        "df['html_url']"
      ]
    },
    {
      "cell_type": "code",
      "execution_count": 55,
      "metadata": {},
      "outputs": [
        {
          "data": {
            "text/plain": [
              "(4504, 17104)"
            ]
          },
          "execution_count": 55,
          "metadata": {},
          "output_type": "execute_result"
        }
      ],
      "source": [
        "len(df[df['type'] == 'pr']), len(df[df['type'] == 'issue'])"
      ]
    },
    {
      "cell_type": "code",
      "execution_count": 56,
      "metadata": {},
      "outputs": [
        {
          "data": {
            "text/html": [
              "<div>\n",
              "<style scoped>\n",
              "    .dataframe tbody tr th:only-of-type {\n",
              "        vertical-align: middle;\n",
              "    }\n",
              "\n",
              "    .dataframe tbody tr th {\n",
              "        vertical-align: top;\n",
              "    }\n",
              "\n",
              "    .dataframe thead th {\n",
              "        text-align: right;\n",
              "    }\n",
              "</style>\n",
              "<table border=\"1\" class=\"dataframe\">\n",
              "  <thead>\n",
              "    <tr style=\"text-align: right;\">\n",
              "      <th></th>\n",
              "      <th>index</th>\n",
              "      <th>url</th>\n",
              "      <th>created_at</th>\n",
              "      <th>title</th>\n",
              "      <th>issue</th>\n",
              "      <th>comments</th>\n",
              "      <th>keywords</th>\n",
              "      <th>type</th>\n",
              "      <th>html_url</th>\n",
              "    </tr>\n",
              "  </thead>\n",
              "  <tbody>\n",
              "  </tbody>\n",
              "</table>\n",
              "</div>"
            ],
            "text/plain": [
              "Empty DataFrame\n",
              "Columns: [index, url, created_at, title, issue, comments, keywords, type, html_url]\n",
              "Index: []"
            ]
          },
          "execution_count": 56,
          "metadata": {},
          "output_type": "execute_result"
        }
      ],
      "source": [
        "df[(df['type'] == 'pr') & (df['html_url'].str.contains('issue'))]"
      ]
    },
    {
      "cell_type": "code",
      "execution_count": 57,
      "metadata": {},
      "outputs": [
        {
          "data": {
            "text/plain": [
              "(0, 17104)"
            ]
          },
          "execution_count": 57,
          "metadata": {},
          "output_type": "execute_result"
        }
      ],
      "source": [
        "df.drop(df[df['type'] == 'pr'].index, inplace=True)\n",
        "len(df[df['type'] == 'pr']), len(df[df['type'] == 'issue'])"
      ]
    },
    {
      "cell_type": "code",
      "execution_count": 58,
      "metadata": {},
      "outputs": [],
      "source": [
        "df['project'] = df['issue'].apply(lambda x: '/'.join(x['repository_url'].split('/')[-2:]))"
      ]
    },
    {
      "cell_type": "code",
      "execution_count": 59,
      "metadata": {},
      "outputs": [
        {
          "data": {
            "text/plain": [
              "(3828, 13276)"
            ]
          },
          "execution_count": 59,
          "metadata": {},
          "output_type": "execute_result"
        }
      ],
      "source": [
        "blacklisted_repositories = [\n",
        "    'AdguardTeam/AdguardFilters',\n",
        "    'vz-risk/VCDB'\n",
        "]\n",
        "\n",
        "df['blacklisted'] = df['project'].apply(lambda x: x in blacklisted_repositories)\n",
        "len(df[df['blacklisted'] == True]), len(df[df['blacklisted'] == False])"
      ]
    },
    {
      "cell_type": "code",
      "execution_count": 48,
      "metadata": {},
      "outputs": [
        {
          "data": {
            "text/plain": [
              "(0, 13276)"
            ]
          },
          "execution_count": 48,
          "metadata": {},
          "output_type": "execute_result"
        }
      ],
      "source": [
        "df.drop(df[df['blacklisted'] == True].index, inplace=True)\n",
        "len(df[df['blacklisted'] == True]), len(df[df['blacklisted'] == False])"
      ]
    },
    {
      "cell_type": "code",
      "execution_count": 31,
      "metadata": {},
      "outputs": [
        {
          "data": {
            "text/plain": [
              "index                                                       526\n",
              "url           https://api.github.com/repos/audacity/audacity...\n",
              "created_at                                  2021-07-03 20:45:28\n",
              "title            New privacy policy is completely unacceptable!\n",
              "issue         {'url': 'https://api.github.com/repos/audacity...\n",
              "comments      [{'url': 'https://api.github.com/repos/audacit...\n",
              "keywords                                     ['privacy breach']\n",
              "type                                                      issue\n",
              "html_url       https://github.com/audacity/audacity/issues/1213\n",
              "project                                       audacity/audacity\n",
              "#comments                                                   635\n",
              "Name: 12139, dtype: object"
            ]
          },
          "execution_count": 31,
          "metadata": {},
          "output_type": "execute_result"
        }
      ],
      "source": [
        "\n",
        "df['#comments'] = df['comments'].apply(lambda x: len(x))\n",
        "\n",
        "# pandas get row with max value\n",
        "df.loc[df['#comments'].idxmax()]\n"
      ]
    },
    {
      "cell_type": "code",
      "execution_count": 32,
      "metadata": {},
      "outputs": [
        {
          "data": {
            "text/plain": [
              "index                                                         191\n",
              "url             https://api.github.com/repos/docker/docs/issue...\n",
              "created_at                                    2018-06-20 07:19:51\n",
              "title                       Download Docker CE without logging in\n",
              "issue           {'url': 'https://api.github.com/repos/docker/d...\n",
              "comments        [{'url': 'https://api.github.com/repos/docker/...\n",
              "keywords        ['right to be forgotten', 'privacy breach', 'a...\n",
              "type                                                        issue\n",
              "html_url               https://github.com/docker/docs/issues/6910\n",
              "project                                               docker/docs\n",
              "#comments                                                     611\n",
              "discussants     [anaisbetts, OliverCole, aral, raed667, Amazin...\n",
              "#discussants                                                  359\n",
              "Name: 1066, dtype: object"
            ]
          },
          "execution_count": 32,
          "metadata": {},
          "output_type": "execute_result"
        }
      ],
      "source": [
        "df['discussants'] = df['comments'].apply(lambda x: list(set([i['user']['login'] for i in x])))\n",
        "df['#discussants'] = df['discussants'].apply(lambda x: len(x))\n",
        "\n",
        "# pandas get row with max value\n",
        "df.loc[df['#discussants'].idxmax()]"
      ]
    },
    {
      "cell_type": "code",
      "execution_count": 33,
      "metadata": {},
      "outputs": [],
      "source": [
        "df['reporter'] = df['issue'].apply(lambda x: x['user']['login'])"
      ]
    },
    {
      "cell_type": "code",
      "execution_count": 34,
      "metadata": {},
      "outputs": [],
      "source": [
        "df['reporting_date'] = df['issue'].apply(lambda x: x['created_at'])\n",
        "df['reporting_date'] = pd.to_datetime(df['reporting_date'])\n",
        "df['last_active_date'] = df['issue'].apply(lambda x: pd.to_datetime(x['updated_at']))\n",
        "df['last_active_date'] = pd.to_datetime(df['last_active_date'])"
      ]
    },
    {
      "cell_type": "code",
      "execution_count": 35,
      "metadata": {},
      "outputs": [],
      "source": [
        "df['status'] = df['issue'].apply(lambda x: x['state'])\n",
        "df['labels'] = df['issue'].apply(lambda x: [label['name'] for label in x['labels']])\n",
        "df['#labels'] = df['labels'].apply(lambda x: len(x))"
      ]
    },
    {
      "cell_type": "code",
      "execution_count": 36,
      "metadata": {},
      "outputs": [],
      "source": [
        "df['issue_number'] = df['issue'].apply(lambda x: x['number'])"
      ]
    },
    {
      "cell_type": "code",
      "execution_count": 37,
      "metadata": {},
      "outputs": [
        {
          "data": {
            "text/plain": [
              "1                                        [feature_request]\n",
              "3           [suggestion, feature/shields, feature/cookies]\n",
              "8                                             [backburner]\n",
              "16                                           [enhancement]\n",
              "23                                                  [epic]\n",
              "                               ...                        \n",
              "21578                                                 [ui]\n",
              "21580                                             [tested]\n",
              "21583                                    [awaiting-review]\n",
              "21590    [T: Anti Adblock Script, N: AdGuard for Window...\n",
              "21601                         [question, privacy, Firefox]\n",
              "Name: labels, Length: 7517, dtype: object"
            ]
          },
          "execution_count": 37,
          "metadata": {},
          "output_type": "execute_result"
        }
      ],
      "source": [
        "df[df['#labels'].notnull() & df['#labels'] > 0]['labels']"
      ]
    },
    {
      "cell_type": "code",
      "execution_count": 38,
      "metadata": {},
      "outputs": [],
      "source": [
        "pd.to_pickle(df, 'issues.p')"
      ]
    },
    {
      "cell_type": "code",
      "execution_count": 39,
      "metadata": {},
      "outputs": [
        {
          "name": "stdout",
          "output_type": "stream",
          "text": [
            "66928\n",
            "41238\n"
          ]
        }
      ],
      "source": [
        "df = pd.read_pickle('issues.p')\n",
        "\n",
        "tmp_list = [[reporter + '_' + project] + [discussant + '_' + project for discussant in discussants] for project, reporter, discussants in zip(df['project'], df['reporter'], df['discussants'])]\n",
        "users = [item for sublist in tmp_list for item in sublist]\n",
        "print(len(users))\n",
        "print(len(set(users)))\n"
      ]
    },
    {
      "attachments": {},
      "cell_type": "markdown",
      "metadata": {},
      "source": [
        "### -> now run the contributor import, then continue with `processing_contributor_import.ipynb`"
      ]
    }
  ],
  "metadata": {
    "kernelspec": {
      "display_name": "github_priv",
      "language": "python",
      "name": "python3"
    },
    "language_info": {
      "codemirror_mode": {
        "name": "ipython",
        "version": 3
      },
      "file_extension": ".py",
      "mimetype": "text/x-python",
      "name": "python",
      "nbconvert_exporter": "python",
      "pygments_lexer": "ipython3",
      "version": "3.10.6"
    },
    "orig_nbformat": 4,
    "vscode": {
      "interpreter": {
        "hash": "9988732df1362e222b4c269652c83f400836fa46e2b5f2031be164aab9b82f3d"
      }
    }
  },
  "nbformat": 4,
  "nbformat_minor": 2
}
